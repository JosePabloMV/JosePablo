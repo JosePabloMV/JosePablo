{
 "cells": [
  {
   "attachments": {},
   "cell_type": "markdown",
   "metadata": {},
   "source": [
    "Universidad de Costa Rica  <br>\n",
    "CI-0148 Aprendizaje Máquina <br>\n",
    "Período: 2022-I <br>\n",
    "Docente: Pablo Sauma Chacón <br>\n",
    "Estudiantes: \n",
    "\n",
    "- Jose Pablo Mora Villalobos. B85326 \n",
    "- Juan José Valverde Campos. B47200 \n",
    "***\n",
    "\n",
    "# Laboratorio 4\n",
    "\n",
    "Objetivo: Familiarizar al estudiante con la creación y el uso de redes neuronales desde una perspectiva de modelo matemático.\n",
    "\n",
    "[Descripción del laboratorio](https://docs.google.com/document/d/1wRx9fXTOqUEHyD78Mwrd8F8RDaTmvm9yBhxixX-VNsY/edit)"
   ]
  },
  {
   "cell_type": "markdown",
   "metadata": {},
   "source": [
    "## 1. Importación de Librerías"
   ]
  },
  {
   "cell_type": "code",
   "execution_count": 3,
   "metadata": {},
   "outputs": [],
   "source": [
    "import numpy as np\n",
    "from scipy.special import expit\n",
    "import pandas as pd \n",
    "from sklearn.model_selection import PredefinedSplit, train_test_split"
   ]
  },
  {
   "cell_type": "markdown",
   "metadata": {},
   "source": [
    "## 2. Implementación de funciones de activación\n",
    "\n",
    "Las funciones `sigmoid()` y `tanh()` fueron resueltas con `numpy`, pero para evitar problemas de *overflow* con algunos valores cuando los resultados de `np.exp(x)` son `inf`, se decidió usar los métodos `expit()` y `np.tanh()` respectivamente."
   ]
  },
  {
   "cell_type": "code",
   "execution_count": 5,
   "metadata": {},
   "outputs": [],
   "source": [
    "def sigmoid(x):\n",
    "    # 1/(1 + e^(-x))\n",
    "    # return 1 / (1 + np.exp(-x)) \n",
    "    return expit(x)\n",
    "\n",
    "def d_sigmoid(y):\n",
    "    return y*(1-y)\n",
    "\n",
    "def tanh(x):\n",
    "    #  (e^x - e^(-x))/(e^x + e^(-x))\n",
    "    # return (np.exp(x) - np.exp(-x)) / (np.exp(x) + np.exp(-x))\n",
    "    return np.tanh(x)\n",
    "\n",
    "def d_tanh(y):\n",
    "    return 1 - y**2\n",
    "\n",
    "def relu(x):\n",
    "    # (x if x>0 else 0)\n",
    "    return np.where(x > 0, x, 0)\n",
    "\n",
    "def d_relu(y):\n",
    "    return np.where(y > 0, 1, 0)\n",
    "\n",
    "def lrelu(x):\n",
    "    # (x if x>0 else 0.01x)\n",
    "    return np.where(x > 0, x, 0.01 * x)\n",
    "\n",
    "def d_lrelu(y):\n",
    "    return np.where(y > 0, 1, 0.01 )\n"
   ]
  },
  {
   "cell_type": "code",
   "execution_count": 6,
   "metadata": {},
   "outputs": [
    {
     "data": {
      "image/png": "[encoded data removed]",
      "text/plain": [
       "<Figure size 432x288 with 1 Axes>"
      ]
     },
     "metadata": {
      "needs_background": "light"
     },
     "output_type": "display_data"
    },
    {
     "data": {
      "image/png": "[encoded data removed]",
      "text/plain": [
       "<Figure size 432x288 with 1 Axes>"
      ]
     },
     "metadata": {
      "needs_background": "light"
     },
     "output_type": "display_data"
    },
    {
     "data": {
      "image/png": "[encoded data removed]",
      "text/plain": [
       "<Figure size 432x288 with 1 Axes>"
      ]
     },
     "metadata": {
      "needs_background": "light"
     },
     "output_type": "display_data"
    }
   ],
   "source": [
    "n = np.linspace(-10,10,100)\n",
    "import matplotlib.pyplot as plt\n",
    "\n",
    "x = np.array([-np.inf, -1.5, 0, 1.5, np.inf])\n",
    "plt.plot(n,expit(n))\n",
    "plt.show()\n",
    "plt.plot(n,np.tanh(n))\n",
    "plt.show()\n",
    "plt.plot(n,relu(n))\n",
    "plt.plot(n,lrelu(n))\n",
    "plt.show()\n",
    "\n"
   ]
  },
  {
   "cell_type": "markdown",
   "metadata": {},
   "source": [
    "# 3. Creación de clase DenseNN"
   ]
  },
  {
   "cell_type": "code",
   "execution_count": 7,
   "metadata": {},
   "outputs": [],
   "source": [
    "\n",
    "activations = {'s':sigmoid,'t':tanh,'r':relu,'l':lrelu}\n",
    "activationsD = {'s':d_sigmoid,'t':d_tanh,'r':d_relu,'l':d_lrelu}\n",
    "class DenseNN:\n",
    "\n",
    "    def __init__(self, layers, activation, seed=0):\n",
    "        '''\n",
    "        Se realiza la inicialización de la clase\n",
    "        '''\n",
    "        # Se comprueba que se pueda realizar una red neuronal\n",
    "        try:\n",
    "            if len(layers) < 3:\n",
    "                raise Exception(\"Las capas tienen que ser mayor a 3.\")\n",
    "        except:\n",
    "            print('El parámetro layers no es un vector.')\n",
    "            return\n",
    "        \n",
    "        np.random.seed(seed) # Se implanta la semilla para la replicación de la prueba\n",
    "        self._set_structure(layers) # Se crea la estructura de red neuronal brindada por el usuario\n",
    "        self._set_activation(activation) # Se crean las funciones de activación solicitadas por cada capa \n",
    "\n",
    "    def MSE(self,y_true, y_predict):\n",
    "        '''\n",
    "        Funcion del error medio cuadratico\n",
    "        '''\n",
    "        return np.mean(np.power((y_true - y_predict),2))\n",
    "\n",
    "    def GDMSE(self,y_predict,y_true):\n",
    "        '''\n",
    "        Función de la derivada del del error medio absoluto\n",
    "        '''\n",
    "        return (2*(y_predict-y_true))\n",
    "\n",
    "    def _set_structure(self, layers):\n",
    "        '''\n",
    "        Se inicializan la matriz de pesos, así como los valores netos, de activación y errores de cada capa\n",
    "        '''\n",
    "        weights, netValues,activationValues,errors = [],[],[],[]\n",
    "        for i in range(len(layers)-1): # Se itera por cada una de las capas\n",
    "            shape = ((layers[i] + 1) , layers[i+1]) # Se obtiene el shape necesario para poder crear la matriz de pesos\n",
    "            weights.append(np.random.normal(size=shape,loc=0,scale=2)) # Se inicializa los pesos siguiendo la inicialización de Xavier\n",
    "            netValues.append(np.zeros(layers[i+1]+1)) # Se agregan valores netos para las neuronas de la capa correspondiente, donde se inicializan en 0\n",
    "            activationValues.append(np.zeros(layers[i+1]+1)) # Se agregan valores de activación para las neuronas de la capa correspondientes, donde se inicializan en 0\n",
    "            errors.append(np.zeros(layers[i+1])) # Se agregan los errores para las neuronas de la capa correspondiente, donde se inicializan en 0\n",
    "        # Se asigna todo lo creado como atributos de la clase correspondiente\n",
    "        self.weights = weights\n",
    "        self.netValues = netValues\n",
    "        self.activationValues = activationValues\n",
    "        self.errors = errors\n",
    "\n",
    "    def _set_activation(self,activation):\n",
    "        '''\n",
    "        Se agregan las funciones de activación\n",
    "        '''\n",
    "        self.activation = []\n",
    "        self.activationD = []\n",
    "        for key in activation:\n",
    "            self.activation.append(activations[key]) # Corresponde a la función de activación\n",
    "            self.activationD.append(activationsD[key]) # Corresponde a la derivada de la función de activación\n",
    "\n",
    "    def predict(self, x):\n",
    "        '''\n",
    "        Se realiza la predicción bajo unos valores X dados por el ususario\n",
    "        Aquí se retorna una matriz nxp \n",
    "            Donde n es la cantidad de observaciones \n",
    "            p son las salidas de la ultima capa\n",
    "        '''\n",
    "        x = np.insert(np.asarray(x), x.shape[1], 1, axis=1) # Se obtiene los valores como numpy en x y además se agrega el bias correspondiente\n",
    "        for i in range(len(self.activation)):\n",
    "            self.netValues[i] = x @ self.weights[i] # Se obtiene los valores netos por medio de una multiplicación matricial\n",
    "            self.activationValues[i] = self.activation[i](self.netValues[i]) # A esos valores netos se les pasa una función de activación\n",
    "            self.activationValues[i] = np.insert(np.asarray(self.activationValues[i]), self.activationValues[i].shape[1], 1, axis=1) \n",
    "            # Se utilizaran los valores de activacion como nuevas entradas, por lo que se pasan los mismos con el extra de el bias que seguira a posteriori\n",
    "            x = self.activationValues[i]\n",
    "        self.activationValues[-1] = np.delete(self.activationValues[-1],self.activationValues[-1].shape[1]-1,1) # Al ultimo valor de activación se le elimina el bias, dado que no es necesario\n",
    "        return self.activationValues[-1] # Se retorna los resultados finales, donde los últimos valores de activación seran las respuestas del y estimado.\n",
    "    \n",
    "    def train(self, lr=0.05, momentum=0, decay=0):\n",
    "        '''\n",
    "        Se setean los hiperparámetros respectivos a:\n",
    "            1. lr = Learning Rate\n",
    "            2. Momentum \n",
    "            3. Decay\n",
    "            4. Cantidad de epocas\n",
    "            5. Las derivadas de los pesos deseados\n",
    "        '''\n",
    "        self.lr = lr\n",
    "        self.momentum = momentum\n",
    "        self.decay = decay\n",
    "        self.Dw = []\n",
    "        self.DwPrev = []\n",
    "        self.epoch = 0\n",
    "        for weight in self.weights:\n",
    "            self.Dw.append(np.zeros(shape = weight.shape)) # Se agregan los Dw que sean iguales a 0 y con un shape igual al W original\n",
    "            self.DwPrev.append(np.zeros(shape = weight.shape)) # Se agregan los Dw anteriores que sean iguales a 0 y con un shape igual al W original\n",
    "\n",
    "    def backpropagation(self, x, y):\n",
    "        '''\n",
    "        Metodo que realiza todo un backpropagation para uno o varias observaciones\n",
    "        Se retorna el valor de error con los W actuales, el mismo se establece que sea basado en MSE\n",
    "        En caso de que se quieran cambiar los W actuales, se debe de correr posteriormente el step\n",
    "        '''\n",
    "        # Se realiza un forward propagation, para ya tener los valores de error y la obtención de valores netos y de activación\n",
    "        yPredict = self.predict(x) # Se obtiene la predicción que va a ser utilizado, durante todo el tiempo\n",
    "        for i in range(len(self.activation)-1,-1,-1):# Se recorre cada una de las capas de forma inversa (Es decir de la última capa hasta la primera)\n",
    "            # Existe una serie de casos que deben de estimarse según la capa en la que se encuentre\n",
    "            if (i == 0): # primera capa (Ultima capa)\n",
    "                # Esta capa tiene como aspecto relevante que se debe utilizar la matriz de x como entrada y no valores netos\n",
    "                # Fuera de lo anterior es igual que a lo mencionado en las capas intermedias.\n",
    "                self.errors[i] = self.errors[i+1] @ self.weights[i+1].T  # \n",
    "                self.Dw[i] = self.errors[i]*self.activationD[i](self.activationValues[i])\n",
    "                self.Dw[i] = self.Dw[i].T @ np.insert(np.asarray(x), x.shape[1], 1, axis=1) # Se agrega el bias.\n",
    "                self.Dw[i] = np.delete(self.Dw[i],self.Dw[i].shape[0]-1,0)\n",
    "                self.errors[i] = np.delete(self.errors[i],self.errors[i].shape[1]-1,1)\n",
    "\n",
    "            elif (i == len(self.activation)-1): # capa de salida (Primera capa)\n",
    "                self.Dw[i] = ((self.GDMSE(yPredict,y) *\n",
    "                self.activationD[i](self.activationValues[i])).T @\n",
    "                self.activationValues[i-1])/y.size # Se sigue la formula vista en clase: 2·(t-y)·φ’(netj)\n",
    "                # Nota se divide entre y.size, dado que lo que se quiere obtener es el cambio de peso con todo el error acumulado\n",
    "                self.errors[i] = self.GDMSE(yPredict,y) # Se ingresa el error para la siguiente capa\n",
    "\n",
    "            else: # capas intermedias (Todas las demás capas)\n",
    "                # La formula vista en clase es la siguiente : δj = (∑ wjk · δk)·φ’(netj)\n",
    "                # La capa actual recibe como error de la capa posterior, segun su contribucion por pesos = (∑ wjk · δk)\n",
    "                self.errors[i] = self.errors[i+1] @ self.weights[i+1].T \n",
    "                # Se obtiene la derivada de la funcion de activacion y a eso se multiplica por lo errores de la capa = (∑ wjk · δk)·φ’(netj)\n",
    "                self.Dw[i] = self.errors[i]*self.activationD[i](self.activationValues[i])\n",
    "                # Δwij  = oi δj, \n",
    "                # Donde oi, sera los valores de activacion de la neurona respectiva que fue llamada\n",
    "                self.Dw[i] = self.Dw[i].T @ self.activationValues[i-1] \n",
    "                # Se eliminan los psos del bias para no ser contados en el backpropagation\n",
    "                self.Dw[i] = np.delete(self.Dw[i],self.Dw[i].shape[0]-1,0) \n",
    "                # Se borran los pesos, debido al problema que aqui se estaria almacenndo un error para el bias\n",
    "                self.errors[i] = np.delete(self.errors[i],self.errors[i].shape[1]-1,1) \n",
    "        return(self.MSE(y,yPredict)) \n",
    "        \n",
    "    def step(self):\n",
    "        '''\n",
    "        Metodo para actualizar los pesos y además aumentar la cantidad de épocas y realizar el decaimiento\n",
    "        '''\n",
    "        for i in range(len(self.Dw)): # Se recorre cada una de las matrices de pesos\n",
    "            self.weights[i] -= self.lr * (self.Dw[i].T + self.momentum * self.DwPrev[i]) # Se actualizan los nuevos pesos\n",
    "            self.DwPrev[i] = self.Dw[i].T # Se agrega los pesos ya aplicados como pesos anteriores \n",
    "        self.lr =  self.lr/(1+self.decay) # Se realiza el decaimiento del learning rate\n",
    "        self.epoch +=1 # Aumento de las épocas\n",
    "\n",
    "\n"
   ]
  },
  {
   "cell_type": "markdown",
   "metadata": {},
   "source": [
    "## 4. Carga de datos antes de utilizar la clase DenseNN"
   ]
  },
  {
   "cell_type": "code",
   "execution_count": 8,
   "metadata": {},
   "outputs": [
    {
     "name": "stdout",
     "output_type": "stream",
     "text": [
      "Se borran en total 264 registros\n"
     ]
    },
    {
     "data": {
      "text/plain": [
       "(262, 9)"
      ]
     },
     "execution_count": 8,
     "metadata": {},
     "output_type": "execute_result"
    }
   ],
   "source": [
    "def chargeData():\n",
    "    return pd.read_csv('titanic.csv',delimiter=\",\",decimal=\".\")\n",
    "\n",
    "def deleteData(df):\n",
    "    '''\n",
    "    Columnas borradas:\n",
    "    1. PassengerId: Es un dato que ayuda solo a reconocer pasajeros y no hace ningún efecto en poder clasificar si alguien vive o muere\n",
    "    2. Name:  Es un dato que ayuda solo a reconocer pasajeros y no hace ningún efecto en poder clasificar si alguien vive o muere\n",
    "    3. Ticket:  Es un dato que ayuda solo a reconocer pasajeros y no hace ningún efecto en poder clasificar si alguien vive o muere\n",
    "    4. Cabin: Tiene valores que son mas del 75% NaN, por lo que no aporta a un correcto analisis.\n",
    "    5. Embarked: No veo una gran relacion entre estas variables, mi teoría se sustenta aun mas cuando veo a partir de los graficos \n",
    "    de los categoricos que parece que esta variable se encuentra muy sesgada hacia la categoria \"S\"\n",
    "    '''\n",
    "    df.drop(columns = [\"PassengerId\" ,\"Name\",\"Cabin\",\"Ticket\",\"Embarked\"],inplace=True)\n",
    "    before = df.shape\n",
    "    '''\n",
    "    Se borra las filas NaN\n",
    "    '''\n",
    "    df.dropna(inplace= True)\n",
    "    print(\"Se borran en total\",(before[0]-df.shape[0]),\"registros\")\n",
    "    \n",
    "    return df\n",
    "    \n",
    "df = chargeData()\n",
    "deleteData(df)\n",
    "\n",
    "categoricalColumns = ['Pclass','Sex']\n",
    "Y = df.pop(\"Survived\")\n",
    "# Se crea el one-hot encoding\n",
    "df = pd.get_dummies(df,columns=categoricalColumns)\n",
    "X_train, X_test, y_train, y_test = train_test_split(df, Y, train_size=0.75, test_size=0.25, random_state=21)\n",
    "y_train = np.reshape(np.asarray(y_train), (y_train.size,1))\n",
    "y_test = np.reshape(np.asarray(y_test), (y_test.size,1))\n",
    "X_test.shape"
   ]
  },
  {
   "cell_type": "markdown",
   "metadata": {},
   "source": [
    "## 5. Modelo de la red neural densa"
   ]
  },
  {
   "cell_type": "code",
   "execution_count": 15,
   "metadata": {},
   "outputs": [
    {
     "name": "stdout",
     "output_type": "stream",
     "text": [
      "2.826606837480483e-08\n"
     ]
    }
   ],
   "source": [
    "dnn = DenseNN([9,3,1],['t','s'],0) # Se crea la entidad\n",
    "dnn.train(lr=0.00005, momentum=1e-7, decay=1e-7) # Se inicia con el train para indicar tasa de aprendizaje, momentum y decay\n",
    "first = dnn.backpropagation(X_train,y_train) # Se realiza un backpropagation y se obtiene como retorno el MSE \n",
    "dnn.step() # Se realiza un step para actualizar los pesos\n",
    "second = dnn.backpropagation(X_train,y_train) # Se realiza un backpropagation y se obtiene como retorno otro MSE\n",
    "print(first-second) # Se observa como la red neuronal mejoró en su error"
   ]
  },
  {
   "cell_type": "markdown",
   "metadata": {},
   "source": [
    "## 6. Método para buscar los mejores hiperparámetros\n",
    "\n",
    "El siguiente método recibe un mapa con un conjunto de vectores para cada parámetro del modelo `DenseNN()` y revisa el error para cada combinación después de entrenar la red 1000 épocas. Al final se determina cuál combinación da el error más bajo."
   ]
  },
  {
   "cell_type": "code",
   "execution_count": 11,
   "metadata": {},
   "outputs": [],
   "source": [
    "import itertools as it\n",
    "def grid_search(param_grid,verbose_val = 100):         \n",
    "    combinations = it.product(*(param_grid[Name] for Name in param_grid))\n",
    "    score_ = np.Inf\n",
    "    scores = []\n",
    "    best_i = ()\n",
    "    n_comb = 1\n",
    "    c = list(combinations)\n",
    "    print('Total de comb: ', len(c))\n",
    "    for i in c:   \n",
    "        dnn = DenseNN(i[0][0],i[0][1],i[4])\n",
    "        dnn.train(lr=i[1], momentum=i[2], decay=i[3])\n",
    "        if n_comb % verbose_val == 0:\n",
    "            print('Comb analizadas: ', n_comb)\n",
    "        n_comb += 1\n",
    "        for e in range(1000):\n",
    "            new_score_ = dnn.backpropagation(X_train,y_train)\n",
    "            dnn.step()\n",
    "        if (score_ > new_score_):\n",
    "            score_ = new_score_\n",
    "            best_i = i\n",
    "        scores.append([i,new_score_])\n",
    "    print('Mejor combinación: ',best_i, score_)\n",
    "    return (scores)"
   ]
  },
  {
   "cell_type": "markdown",
   "metadata": {},
   "source": [
    "Para revisar el modelo, se utilizan algunas arquitecturas con distintas cantidades de capas y de neuronas por capa, además de distintas funciones de activación. También se prueban distintos valores de lr, momentum, decay y seed, este último para determinar la semilla que generan los pesos iniciales de la red. "
   ]
  },
  {
   "cell_type": "code",
   "execution_count": 13,
   "metadata": {},
   "outputs": [
    {
     "name": "stdout",
     "output_type": "stream",
     "text": [
      "Total de comb:  2400\n",
      "Comb analizadas:  500\n",
      "Comb analizadas:  1000\n",
      "Comb analizadas:  1500\n",
      "Comb analizadas:  2000\n",
      "Mejor combinación:  ([[9, 4, 1], ['l', 's']], 1e-05, 0.001, 0, 5) 0.19117379502622603\n"
     ]
    },
    {
     "data": {},
     "execution_count": 13,
     "metadata": {},
     "output_type": "execute_result"
    }
   ],
   "source": [
    "params = {\n",
    "    'arq':[[[9,3,1],['r','s']],[[9,3,1],['l','s']],\n",
    "           [[9,4,1],['l','s']],[[9,4,1],['r','s']],\n",
    "           [[9,4,4,1],['s','l','s']],[[9,4,3,1],['s','l','s']],\n",
    "           [[9,5,5,1],['s','r','s']],[[9,3,1],['s','s']],],\n",
    "    'lr':[1e-3,1e-5,1e-7,1e-9],\n",
    "    'momentum':[0,1e-3,1e-5,1e-7,1e-9],\n",
    "    'decay':[0,1e-3,1e-5,1e-7,1e-9],\n",
    "    'seed':[21,42,5],\n",
    "}\n",
    "\n",
    "scores = grid_search(params,500) #Si desea ejecutar la búsqueda de hiperparámetros descomentar esta línea de código"
   ]
  },
  {
   "cell_type": "markdown",
   "metadata": {},
   "source": [
    "## 7. Se instancia la mejor red neuronal encontrada y se muestran sus resultados\n",
    "\n",
    "Con la mejor combinación de hiperparámetros obtenidos en el paso anterior se muestra el resultado de entrenar un modelo con esa combinación por 100000 épocas."
   ]
  },
  {
   "cell_type": "code",
   "execution_count": 19,
   "metadata": {},
   "outputs": [
    {
     "data": {
      "image/png": "[encoded data removed]",
      "text/plain": [
       "<Figure size 432x288 with 1 Axes>"
      ]
     },
     "metadata": {
      "needs_background": "light"
     },
     "output_type": "display_data"
    },
    {
     "data": {
      "text/plain": [
       "0.8015267175572519"
      ]
     },
     "execution_count": 19,
     "metadata": {},
     "output_type": "execute_result"
    }
   ],
   "source": [
    "dnn = DenseNN([9, 4, 1], ['l', 's'], 5)\n",
    "dnn.train( 1e-05, 1e-03, 0)\n",
    "\n",
    "z = dnn.backpropagation(X_train,y_train)\n",
    "dnn.step()\n",
    "errores = []\n",
    "for i in range(100000):\n",
    "    error = dnn.backpropagation(X_train,y_train)\n",
    "    errores.append(error) # Impresion de errores\n",
    "    dnn.step()\n",
    "\n",
    "plt.plot(errores)\n",
    "plt.title('Error a lo largo de las iteraciones')\n",
    "plt.xlabel('Iteración')\n",
    "plt.ylabel('Error')\n",
    "plt.show()\n",
    "\n",
    "1 - np.abs(np.round(dnn.predict(X_test)) - y_test).sum()/X_test.shape[0] # Error reportado final fuera de red neuronal"
   ]
  },
  {
   "cell_type": "markdown",
   "metadata": {},
   "source": [
    "En general, esta red consigue una eficacia de al rededor de un %80. Los valores del error, a pesar de que disminuyen bastante, no mejoran demasiado desde cerca de la iteración 10000, por lo que se puede ver del gráfico."
   ]
  },
  {
   "cell_type": "markdown",
   "metadata": {},
   "source": [
    "# 8. Aprendizaje\n",
    "* Pudimos ver como el `backpropagation` ocurre por dentro y se va extendiendo por las matrices de pesos para mejorar las estimaciones.\n",
    "* Nos quedo mucho más claro como una red neuronal funciona para estimar a partir de datos. Donde literalmente como se ha mencionado en el curso es la búsqueda de una función NO lineal que permita encontrar la reducción de un error.\n",
    "* Consideramos que a partir de ahora, el funcionamiento de las redes neuronales con otro tipos de arquitectura sera mucho más fácil de comprender."
   ]
  }
 ],
 "metadata": {
  "interpreter": {
   "hash": "ff4f85d6e04298634172ac5d8264e7e9b556b95639fe52ebb9425c4d4cba0c9c"
  },
  "kernelspec": {
   "display_name": "Python 3.8.11 ('base')",
   "language": "python",
   "name": "python3"
  },
  "language_info": {
   "codemirror_mode": {
    "name": "ipython",
    "version": 3
   },
   "file_extension": ".py",
   "mimetype": "text/x-python",
   "name": "python",
   "nbconvert_exporter": "python",
   "pygments_lexer": "ipython3",
   "version": "3.8.11"
  },
  "orig_nbformat": 4
 },
 "nbformat": 4,
 "nbformat_minor": 2
}
