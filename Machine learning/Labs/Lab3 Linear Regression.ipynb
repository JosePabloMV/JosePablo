{
 "cells": [
  {
   "cell_type": "markdown",
   "metadata": {},
   "source": [
    "Universidad de Costa Rica  <br>\n",
    "CI-0148 Aprendizaje Máquina <br>\n",
    "Período: 2022-I <br>\n",
    "Docente: Pablo Sauma Chacón <br>\n",
    "Estudiante: Jose Pablo Mora Villalobos <br>\n",
    "Carné: B85326 <br>\n",
    "***\n",
    "\n",
    "# Laboratorio 3\n",
    "\n",
    "Objetivo: Familiarizar al estudiante con la creación y el uso de regresiones lineales. Así como las diferentes métricas que existen para medir el rendimiento de los modelos implementados.\n",
    "\n",
    "[Descripción del laboratorio](https://docs.google.com/document/d/1a2B7OMv4_4O8kIb1mN289Eq3_6JPQBN-wTRe5xT-vZc/edit)"
   ]
  },
  {
   "cell_type": "markdown",
   "metadata": {},
   "source": [
    "## 1. Importar el dataset\n",
    "\n",
    "EL dataset se importa con la librería `pandas`. Además se importan la librerías `numpy` para diversas operaciones. En este caso no es necesario aplicar ninguna técnica de limpieza de datos sobre el dataset."
   ]
  },
  {
   "cell_type": "code",
   "execution_count": 2,
   "metadata": {},
   "outputs": [
    {
     "data": {
      "text/html": [
       "<div>\n",
       "<style scoped>\n",
       "    .dataframe tbody tr th:only-of-type {\n",
       "        vertical-align: middle;\n",
       "    }\n",
       "\n",
       "    .dataframe tbody tr th {\n",
       "        vertical-align: top;\n",
       "    }\n",
       "\n",
       "    .dataframe thead th {\n",
       "        text-align: right;\n",
       "    }\n",
       "</style>\n",
       "<table border=\"1\" class=\"dataframe\">\n",
       "  <thead>\n",
       "    <tr style=\"text-align: right;\">\n",
       "      <th></th>\n",
       "      <th>Weight</th>\n",
       "      <th>Length1</th>\n",
       "      <th>Length2</th>\n",
       "      <th>Length3</th>\n",
       "      <th>Height</th>\n",
       "      <th>Width</th>\n",
       "    </tr>\n",
       "  </thead>\n",
       "  <tbody>\n",
       "    <tr>\n",
       "      <th>0</th>\n",
       "      <td>5.9</td>\n",
       "      <td>7.5</td>\n",
       "      <td>8.4</td>\n",
       "      <td>8.8</td>\n",
       "      <td>2.1120</td>\n",
       "      <td>1.4080</td>\n",
       "    </tr>\n",
       "    <tr>\n",
       "      <th>1</th>\n",
       "      <td>32.0</td>\n",
       "      <td>12.5</td>\n",
       "      <td>13.7</td>\n",
       "      <td>14.7</td>\n",
       "      <td>3.5280</td>\n",
       "      <td>1.9992</td>\n",
       "    </tr>\n",
       "    <tr>\n",
       "      <th>2</th>\n",
       "      <td>40.0</td>\n",
       "      <td>13.8</td>\n",
       "      <td>15.0</td>\n",
       "      <td>16.0</td>\n",
       "      <td>3.8240</td>\n",
       "      <td>2.4320</td>\n",
       "    </tr>\n",
       "    <tr>\n",
       "      <th>3</th>\n",
       "      <td>51.5</td>\n",
       "      <td>15.0</td>\n",
       "      <td>16.2</td>\n",
       "      <td>17.2</td>\n",
       "      <td>4.5924</td>\n",
       "      <td>2.6316</td>\n",
       "    </tr>\n",
       "    <tr>\n",
       "      <th>4</th>\n",
       "      <td>70.0</td>\n",
       "      <td>15.7</td>\n",
       "      <td>17.4</td>\n",
       "      <td>18.5</td>\n",
       "      <td>4.5880</td>\n",
       "      <td>2.9415</td>\n",
       "    </tr>\n",
       "  </tbody>\n",
       "</table>\n",
       "</div>"
      ],
      "text/plain": [
       "   Weight  Length1  Length2  Length3  Height   Width\n",
       "0     5.9      7.5      8.4      8.8  2.1120  1.4080\n",
       "1    32.0     12.5     13.7     14.7  3.5280  1.9992\n",
       "2    40.0     13.8     15.0     16.0  3.8240  2.4320\n",
       "3    51.5     15.0     16.2     17.2  4.5924  2.6316\n",
       "4    70.0     15.7     17.4     18.5  4.5880  2.9415"
      ]
     },
     "execution_count": 2,
     "metadata": {},
     "output_type": "execute_result"
    }
   ],
   "source": [
    "import pandas as pd\n",
    "import numpy as np\n",
    "import matplotlib.pyplot as plt\n",
    "\n",
    "df = pd.read_csv(\"fish_perch.csv\",na_values=None)\n",
    "df.head()\n"
   ]
  },
  {
   "cell_type": "markdown",
   "metadata": {},
   "source": [
    "# 2. Cálculo de funciones de error y métrica de rendimiento\n",
    "\n",
    "Para que el algoritmo de regresión lineal funcione, se necesita alguna función de error, en este caso se van a utilizar error mínimo cuadrado `MSE` y error mínimo absoluto `MAE`. Además, para determinar el rendimiento del modelo se utiliza la función `score()` que retorna la métrica de errores cuadrados $R^2$"
   ]
  },
  {
   "cell_type": "code",
   "execution_count": 3,
   "metadata": {},
   "outputs": [],
   "source": [
    "def MSE(y_true, y_predict):\n",
    "    return ((y_true - y_predict)**2).mean()\n",
    "\n",
    "def MAE(y_true, y_predict):\n",
    "    return abs((y_true - y_predict)).mean()\n",
    "\n",
    "def score(y_true, y_predict):\n",
    "    SS_reg = ((y_true - y_predict)**2).sum()\n",
    "    SS_tot = ((y_true - y_true.mean())**2).sum()\n",
    "    return 1-SS_reg/SS_tot"
   ]
  },
  {
   "cell_type": "markdown",
   "metadata": {},
   "source": [
    "# 3. Modelo de regresión lineal\n",
    "\n",
    "Para crear los modelos de regresión lineal se utiliza una clase llamada `LinearRegression`. Esta clase cuenta con los métodos `fit()` para entrenar el modelo con un algún conjunto de datos. Un método `predict()` para indicar los valores de la variable de respuesta para un grupo de datos de entrada a partir de los valores del modelo. También tiene un par de métodos privados para el funcionamiento de la clase: `__reg_func()` y `__derivative()`"
   ]
  },
  {
   "cell_type": "code",
   "execution_count": 35,
   "metadata": {},
   "outputs": [],
   "source": [
    "class LinearRegression:\n",
    "    '''\n",
    "    Implementación del modelo de regresión lineanl.\n",
    "    '''\n",
    "\n",
    "    def fit(self, x, y, \n",
    "            max_epochs=100, \n",
    "            threshold=0.01, \n",
    "            learning_rate=0.001, \n",
    "            momentum=0, \n",
    "            decay=0, \n",
    "            error='mse', \n",
    "            regularization='none', \n",
    "            lambda_=0,\n",
    "            verbose=False,\n",
    "            vebose_val=100):\n",
    "        '''\n",
    "        Entrena el modelo linear a partir de un conjunto de datos.\n",
    "\n",
    "        Parámetros\n",
    "        ----------\n",
    "\n",
    "        x : Arreglo o matriz de forma (n_muestras, n_variables)\n",
    "            Conjunto de datos de entrada para entrenamiento\n",
    " \n",
    "        y : Arreglo de forma (n_muestras, )\n",
    "            Conjutno de datos de salida\n",
    "        \n",
    "        max_epochs : Entero positivo. Valor por defecto: 100\n",
    "            Cantidad de iteraciones que dura el entrenamiento\n",
    "\n",
    "        threshold : Entero positivo. Valor por defecto: 0.01\n",
    "            Valor mínimo de cambio de error entre iteraciones.\n",
    "        \n",
    "        learning_rate : Entero positivo menor a 1. Valor por defecto: 0.001\n",
    "            Tasa de aprendizaje\n",
    "        \n",
    "        momentum : Entero positivo menor a 1 y mayor o igual a 0. Valor por defecto: 0\n",
    "            Inercia. Se utiliza para cambiar los valores de c con respecto a la iteración anterior.\n",
    "\n",
    "        decay : Entero positivo menor a 0.01. Valor por defecto: 0\n",
    "            Taza de decaimiento. Modifica el valor de learning_rate en cada iteración.\n",
    "        \n",
    "        error : String. Valores aceptados {mse, mae}. Valor por defecto: mse\n",
    "            Función de error del entrenamiento.\n",
    "        \n",
    "        regularization : String. Valores aceptados {l1, lasso, l2, ridge, elastic-net, none}. Valor por defecto: none\n",
    "            Técnica de regularización usada para alterar la función de error. l1 es igual a lasso, l2 es igual a ridge.\n",
    "            Cualquier otro valor que sea los aceptados se consideran como none.\n",
    "        \n",
    "        lambda_ : Entero entre 0 y 1. Valor por defecto: 0\n",
    "            Valor que se utiliza para la regularización.\n",
    "\n",
    "        verbose :  Booleano. Valor por defecto: Falso\n",
    "            Mostrar el error en las épocas.\n",
    "        \n",
    "        verbose_val : Entero positivo mayor a 0. Valor por defecto: 100\n",
    "            Mostrar el error cada cierto número de épocas.\n",
    "        '''\n",
    "\n",
    "        error_func = {'mse': MSE, 'mae': MAE} \n",
    "        epoch = 0\n",
    "\n",
    "        x = np.insert(np.asarray(x), 0, 1, axis=1)\n",
    "        n = x.shape[1]\n",
    "\n",
    "        self.c = np.random.uniform(0,1,size= n)\n",
    "        self.lambda_ = lambda_\n",
    "        dC = np.zeros((n,))\n",
    "        change = True\n",
    "        self.error_value = np.inf\n",
    "\n",
    "        while epoch != max_epochs and change == True:\n",
    "\n",
    "            dCt = dC \n",
    "            dC = self.__derivative(error,regularization,x,y,n)\n",
    "            self.c = self.c - learning_rate * (dC + momentum * dCt)\n",
    "\n",
    "            learning_rate = learning_rate/(1+decay)\n",
    "            new_error_val = error_func[error](y,x @ self.c)\n",
    "            if self.error_value - new_error_val < threshold:\n",
    "                change = False  \n",
    "            else:\n",
    "                self.error_value = new_error_val\n",
    "            if verbose and epoch % vebose_val == 0:\n",
    "                print('Epoch: {}\\tError: {}'.format(epoch,self.error_value))\n",
    "            epoch+=1\n",
    "\n",
    "    def predict(self,x):\n",
    "        '''\n",
    "        Predice los resultados de un conjunto de datos con respecto a los \n",
    "        valores generados durante el entrenamiento.\n",
    "\n",
    "        Parámetros\n",
    "        ----------\n",
    "\n",
    "        x : Arreglo o matriz de forma (n_muestras, n_variables)\n",
    "            Conjunto de datos sobre los cuales se quiere hacer una predicción.\n",
    "\n",
    "        Retorno\n",
    "        -------\n",
    "\n",
    "        predicción :  Arreglo de forma (n_muestras, )\n",
    "            Contiene los resultados de aplicar la regresión lineal sobre cada entrada de x.\n",
    "        '''\n",
    "        index_list = x.index #Índices originales del dataset\n",
    "        x = np.insert(np.asarray(x), 0,1, axis=1)   # se añade una columna de 1's que correponde la bias\n",
    "        return pd.Series((x @ self.c), index=index_list)\n",
    "\n",
    "    def __reg_func(self, regulator):\n",
    "        '''\n",
    "        Genera el valor de la técnica de regularización para el cálculo de la derivada del error.\n",
    "\n",
    "        Parámetros\n",
    "        ----------\n",
    "        \n",
    "        regulator : String. Valores aceptados {l1, lasso, l2, ridge, elastic-net, none}.\n",
    "            Técnica de regularización usada para alterar la función de error. l1 es igual a lasso, l2 es igual a ridge.\n",
    "            Cualquier otro valor que sea los aceptados se consideran como none.\n",
    "        \n",
    "        Retorno\n",
    "        -------\n",
    "\n",
    "        Valor de regularización : flotante, vector de flotantes\n",
    "            Depende del regularizador. `l1` y `lasso` retornan lambda (flotante).\n",
    "            `l2` y `ridge` retornan 2 * lambda * c (vector).\n",
    "            `elastic-net` retorna una combinación de l1 y l2.\n",
    "            Cualquier otro valor de regularización retorna 0.\n",
    "        '''\n",
    "        if regulator == 'l1' or regulator == 'lasso':\n",
    "            return self.lambda_\n",
    "        elif regulator == 'l2' or regulator == 'ridge':\n",
    "            return self.lambda_*self.c*2\n",
    "        elif regulator == 'elastic-net':\n",
    "            return self.lambda_ + (1 - self.lambda_) * self.c * 2\n",
    "        else:\n",
    "            return 0\n",
    "\n",
    "    def __derivative(self, reg_func, reg, x, y, n):\n",
    "        '''\n",
    "        Genera la derivada parcial de la función de error para cada valor de c\n",
    "\n",
    "        Parámetros\n",
    "        ----------\n",
    "\n",
    "        n : Entero\n",
    "            Cantidad de datos en x\n",
    "        \n",
    "        reg_func : String. Valores aceptados {mse, mae}. Valor por defecto: mse\n",
    "            Función de error del modelo.\n",
    "        \n",
    "        reg : String. Valores aceptados {l1, lasso, l2, ridge, elastic-net, none}.\n",
    "            Ver __reg_func().\n",
    "        \n",
    "        Retorno\n",
    "        -------\n",
    "\n",
    "        Derivada parcial : Arreglo de forma (n_variables_de_x, )\n",
    "            Valores de la derivada parcial para cada valor de c (ver fit()).\n",
    "            Además se toma en cuenta la técnica de regularización.\n",
    "        '''\n",
    "        if reg_func == 'mse':\n",
    "            # Este for no es necesario pero genera el mismo vector que el retorno\n",
    "            # for i in range(dc.size):\n",
    "            #     dc[i] = -2*(np.matmul(x[:,i],(y - x @ c)))/c.shape\n",
    "            return (-2 / n) * ((y-(x @ self.c)).T @ x) + self.__reg_func(reg)\n",
    "        elif reg_func == 'mae':\n",
    "            return ((x @ self.c - y).T @ x).T / n + self.__reg_func(reg)\n",
    "\n"
   ]
  },
  {
   "cell_type": "markdown",
   "metadata": {},
   "source": [
    "# 4. Pruebas sobre el modelo\n",
    "\n",
    "Para mostrar el funcionamiento del modelo, se divide el dataset en partes para entrenamiento y para pruebas. Para esto se utiliza el método `train_test_split()` de la librería `sklearn`.\n",
    "Primero se crea el modelo, luego se entrena con algunos hiperparámetros que no sean los predeterminados y luego se predice un conjunto del dataset para determinar su rendimiento con `score()`. El error se muestra cada 1000 iteraciones."
   ]
  },
  {
   "cell_type": "code",
   "execution_count": 36,
   "metadata": {},
   "outputs": [
    {
     "name": "stdout",
     "output_type": "stream",
     "text": [
      "Epoch: 0\tError: 117889.51343693906\n",
      "Epoch: 1000\tError: 39981.63158854939\n",
      "Epoch: 2000\tError: 37101.35470420174\n",
      "Epoch: 3000\tError: 34548.202603926875\n",
      "Epoch: 4000\tError: 32282.21980640329\n",
      "Epoch: 5000\tError: 30268.421749247915\n",
      "Epoch: 6000\tError: 28476.173138055867\n",
      "Epoch: 7000\tError: 26878.644179919807\n",
      "Epoch: 8000\tError: 25452.334934179933\n",
      "Epoch: 9000\tError: 24176.659238929667\n",
      "R2:  0.7083928753087174\n"
     ]
    }
   ],
   "source": [
    "        \n",
    "from sklearn.model_selection import train_test_split\n",
    "\n",
    "y = df['Weight']\n",
    "x = df.drop(columns=['Weight'])\n",
    "\n",
    "X_train, X_test, y_train, y_test = train_test_split(x, y, train_size=0.75, test_size=0.25, random_state=21)\n",
    "\n",
    "lr = LinearRegression()\n",
    "lr.fit(X_train,y_train,\n",
    "       max_epochs = 10000, \n",
    "       momentum = 1e-5,\n",
    "       decay = 1e-7,\n",
    "       learning_rate = 1e-5,\n",
    "       regularization = 'l1',\n",
    "       lambda_ = 0.1,\n",
    "       threshold = 0,\n",
    "       error = 'mse',\n",
    "       verbose=True,\n",
    "       vebose_val=1000)\n",
    "\n",
    "\n",
    "pred = lr.predict(X_test)\n",
    "print('R2: ',score(y_test,pred))\n"
   ]
  },
  {
   "cell_type": "markdown",
   "metadata": {},
   "source": [
    "Con los valores de los hiperparámetros que se usaron se logró conseguir un 0.71 de $R^2$, lo que indica que el modelo explica el 71% del comportamiento de los datos. Con algunas pruebas extra que he hecho, he visto que la mejor forma de aumentar el rendimiento del modelo y reducir el error es aumentando el número de iteraciones a más de 100000.\n",
    "\n",
    "# 5. Modelo de regresión lineal de sklearn\n",
    "\n",
    "Por otra parte, se puede considerar el desempeño del modelo creado con uno de `sklearn`. La librería cuenta con su propio modelo con los método `fit()` y `predict()`, similares a los hechos en este laboratorio."
   ]
  },
  {
   "cell_type": "code",
   "execution_count": 40,
   "metadata": {},
   "outputs": [
    {
     "name": "stdout",
     "output_type": "stream",
     "text": [
      "R cuadrado\n",
      "Modelo local:\t 0.7083928753087174\n",
      "Modelo sklearn:\t 0.9152645549350648\n",
      "    Valor real       Local      sklear\n",
      "7         80.0  266.595503   90.864572\n",
      "51      1100.0  727.569623  836.432721\n",
      "47       850.0  702.057279  824.695681\n",
      "25       145.0  310.561471  213.908514\n",
      "14       120.0  284.075802  157.191689\n",
      "2         40.0  161.620886  -61.129371\n",
      "23       170.0  301.937636  198.889954\n",
      "31       260.0  364.937404  301.739046\n",
      "17       135.0  275.272921  160.894758\n",
      "53      1100.0  737.495624  882.500422\n",
      "30       300.0  491.330910  434.870044\n",
      "21       145.0  281.139665  175.665725\n",
      "19       130.0  275.866364  171.151992\n",
      "11       115.0  273.235922  138.417157\n"
     ]
    }
   ],
   "source": [
    "\n",
    "from sklearn.linear_model import LinearRegression as LinearReg\n",
    "lr2 = LinearReg()\n",
    "lr2.fit(X_train, y_train)\n",
    "pred2 = lr2.predict(X_test)\n",
    "\n",
    "print('R cuadrado')\n",
    "print('Modelo local:\\t', score(y_test,pred))\n",
    "print('Modelo sklearn:\\t', score(y_test,pred2))\n",
    "print(pd.DataFrame({'Valor real':y_test,'Local':pred,'sklear':pred2}))\n"
   ]
  },
  {
   "cell_type": "markdown",
   "metadata": {},
   "source": [
    "El modelo de `sklearn` logró un rendimiento de 92% con la métrica de R cuadrado, muy superior a los alcanzados con el modelo local. En cuanto a las predicciones, se puede notar que el modelo se `sklearn` consigue obtener valores más altos cuando lo requiere, como en las observaciones 51 y 53 donde alcanzó el valor de 800, sin embargo, es posible que consiga valores negativos, como en la observación 2. El modelo local brinda un conjunto de datos más compacto, con mínimos más altos y máximos más bajos. Esto es en parte también porque el modelo local solo logra un rendimiento del 72%."
   ]
  },
  {
   "cell_type": "markdown",
   "metadata": {},
   "source": [
    "# 6. Pruebas de hiperparámetros\n",
    "\n",
    "Para probar ciertas combinaciones de hiperparámetros se puede utilizar el siguiente método. Está pensado para ser utilizado con el modelo de regresión lienal creado en este laboratorio. Recibe una diccionario con los parámetros en orden como llave y una lista con los valores de cada hiperparámetro. Imprime la cantidad de modelos que se entrenamientos que se realizan por cada combinación de hiperparámetros, y al final se muestra la mejor combinación con la métrica de `score()`. Además, retorna un vector con las todas las combinaciones y su respectivo valor de `score()`."
   ]
  },
  {
   "cell_type": "code",
   "execution_count": 44,
   "metadata": {},
   "outputs": [],
   "source": [
    "import itertools as it\n",
    "\n",
    "def grid_search(param_grid):         \n",
    "    combinations = it.product(*(param_grid[Name] for Name in param_grid))\n",
    "    score_ = 0\n",
    "    scores = []\n",
    "    best_i = ()\n",
    "    n_comb = 0\n",
    "    c = list(combinations)\n",
    "    print('Total de comb: ', len(c))\n",
    "    lr = LinearRegression()\n",
    "    for i in c:\n",
    "        if n_comb % 100 == 0:\n",
    "            print('Comb analizadas: ', n_comb)\n",
    "        n_comb += 1\n",
    "        lr.fit(X_train,y_train,\n",
    "        max_epochs=i[0], \n",
    "        learning_rate=i[1],\n",
    "        momentum=i[2],\n",
    "        decay=i[3],\n",
    "        error=i[4],\n",
    "        regularization=i[5],\n",
    "        lambda_=i[6])\n",
    "        new_score_ = score(y_test,lr.predict(X_test))\n",
    "        if (score_ < new_score_):\n",
    "            score_ = new_score_\n",
    "            best_i = i\n",
    "        scores.append([i,new_score_])\n",
    "    print('Mejor combinación: ',best_i, score_)\n",
    "    return (scores)\n"
   ]
  },
  {
   "cell_type": "code",
   "execution_count": 45,
   "metadata": {},
   "outputs": [
    {
     "name": "stdout",
     "output_type": "stream",
     "text": [
      "Total de comb:  576\n",
      "Comb analizadas:  0\n",
      "Comb analizadas:  100\n",
      "Comb analizadas:  200\n",
      "Comb analizadas:  300\n",
      "Comb analizadas:  400\n",
      "Comb analizadas:  500\n",
      "Mejor combinación:  (10000, 1e-05, 0, 0, 'mse', 'l1', 0.1) 0.7093159306169738\n"
     ]
    }
   ],
   "source": [
    "param_grid = {\n",
    "    'max_epochs':[1000,10000], \n",
    "    'learning_rate':[1e-5,1e-7],\n",
    "    'momentum':[0,1e-5,1e-10],\n",
    "    'decay':[0,1e-5,1e-10],\n",
    "    'error':['mse','mae'],\n",
    "    'regularization':['l1','l2','elastic-net','none'],\n",
    "    'lambda_':[0.1,0.01]\n",
    "    }\n",
    "\n",
    "scores = grid_search(param_grid)"
   ]
  },
  {
   "cell_type": "markdown",
   "metadata": {},
   "source": [
    "Por cuestiones de tiempo no se realizaron pruebas para valores de `max_epochs` mayores a 10000. De momento no se probó con ningún valor de `threshold` distinto del predeterminado. Al terminar las se consiguió que la mejor combinación de hiperparámetros es de `max_epochs` 10000, `learning_rate` 1e-05, `momentum` 0, `decay` 0, `error` 'mse', `regularization` 'l1' y `lambda_` 0.1. En general los mejores valores para este modelo fueron los que se dan por defecto, excepto en el caso de `max_epochs`, `learning_rate`, y `regularization`. El valor obtenido con la métrica es de 71% todavía relativamente bajo comparado con el `sklearn`."
   ]
  },
  {
   "cell_type": "code",
   "execution_count": 72,
   "metadata": {},
   "outputs": [
    {
     "name": "stdout",
     "output_type": "stream",
     "text": [
      "count    576.000000\n",
      "mean       0.533353\n",
      "std        0.077106\n",
      "min        0.436853\n",
      "25%        0.507913\n",
      "50%        0.532052\n",
      "75%        0.539201\n",
      "max        0.709316\n",
      "Name: Scores, dtype: float64\n"
     ]
    },
    {
     "data": {
      "image/png": "[encoded data removed]",
      "text/plain": [
       "<Figure size 432x288 with 1 Axes>"
      ]
     },
     "metadata": {
      "needs_background": "light"
     },
     "output_type": "display_data"
    }
   ],
   "source": [
    "df = pd.DataFrame(scores, columns =['Comb', 'Scores'])\n",
    "print(df['Scores'].describe())\n",
    "df.sample(20).plot(x ='Comb', kind='bar')\n",
    "plt.show()\n"
   ]
  },
  {
   "cell_type": "markdown",
   "metadata": {},
   "source": [
    "Con respecto a los datos obtenidos con `grid_search()`, se tuvo una media de 53% para el $R^2$. Además, varios modelos alcanzaron el %70 de $R^2$. Es difícil poder observar si alguno de los parámetros tuvo algún efecto en este resultado, pero parece ser que la regularización `mae` hace que los valores de $R^2$ sean menores, esto porque algunas combinaciones que usaron `mae` con 10000 iteraciones son peores incluso que algunos de `mse` con 1000 iteraciones. Pero eso es solo observando algunos de los datos y no el total de los generados.\n",
    "\n",
    "# 7. Mejoramiento del rendimiento\n",
    "\n",
    "Para mostrar el rendimiento del modelo con más épocas, se va a realizar una corrida con 200000 iteraciones y los valores del mejor modelo obtenido en la sección anterior."
   ]
  },
  {
   "cell_type": "code",
   "execution_count": 75,
   "metadata": {},
   "outputs": [
    {
     "name": "stdout",
     "output_type": "stream",
     "text": [
      "Epoch: 0\tError: 119369.17591248677\n",
      "Epoch: 20000\tError: 16197.146934232056\n",
      "Epoch: 40000\tError: 11659.009181901854\n",
      "Epoch: 60000\tError: 9791.37952174737\n",
      "Epoch: 80000\tError: 8717.385050545328\n",
      "Epoch: 100000\tError: 8038.023969367352\n",
      "Epoch: 120000\tError: 7581.83438364001\n",
      "Epoch: 140000\tError: 7258.696229453165\n",
      "Epoch: 160000\tError: 7018.814166200889\n",
      "Epoch: 180000\tError: 6833.766188020392\n",
      "R2:  0.8976715894161273\n"
     ]
    }
   ],
   "source": [
    "lr = LinearRegression()\n",
    "lr.fit(X_train,y_train,\n",
    "       max_epochs = 200000, \n",
    "       learning_rate = 1e-05,\n",
    "       momentum = 0,\n",
    "       decay = 0,\n",
    "       error = 'mse',\n",
    "       regularization = 'l1',\n",
    "       lambda_ = 0.1,\n",
    "       threshold = 0,\n",
    "       verbose=True,\n",
    "       vebose_val=20000)\n",
    "\n",
    "\n",
    "pred = lr.predict(X_test)\n",
    "print('R2: ',score(y_test,pred))"
   ]
  },
  {
   "cell_type": "markdown",
   "metadata": {},
   "source": [
    "En este caso se consiguió una métrica de 0.90 para el $R^2$. Mejoró sustancialmente y está similar al obtenido con el modelo de `sklearn`. Además se logró reducir el error a menos de 6833.77 (menor porque no se muestran los valores después de la iteración 180000). Todavía se podría determinar si más iteraciones dan un mejor resultado, y con cuál combinación de hiperparámetros, pero esta búsqueda puede ser muy exhaustiva y por el momento es suficiente con el resultado encontrado.\n",
    "\n",
    "# 8. Cambio del dataset de entrenamiento\n",
    "\n",
    "Por ultimo, para ver el comportamiento del modelo con distintas particiones del dataset, se va a utilizar una semilla distinta durante la división del dataset. Hasta ahora solo se ha utilizado la partición del dataset con el método `train_test_split()` de `sklearn` y con la semilla 21, sin embargo, ahora se van a realizar diversas pruebas con otras semillas elegidas al azar y con el modelo anterior, pero con 100000 iteraciones. "
   ]
  },
  {
   "cell_type": "code",
   "execution_count": 82,
   "metadata": {},
   "outputs": [
    {
     "name": "stdout",
     "output_type": "stream",
     "text": [
      "Semilla: 8 R2: 0.8951606389892417\n",
      "Semilla: 14 R2: 0.8961516577560513\n",
      "Semilla: 62 R2: 0.920510533313193\n",
      "Semilla: 77 R2: 0.8969116621387921\n",
      "Semilla: 63 R2: 0.8863424648682727\n",
      "Semilla: 84 R2: 0.8190715814907411\n",
      "Semilla: 38 R2: 0.9309274840619193\n",
      "Semilla: 59 R2: 0.9250241146448245\n"
     ]
    }
   ],
   "source": [
    "df = pd.read_csv(\"fish_perch.csv\",na_values=None)\n",
    "y = df['Weight']\n",
    "x = df.drop(columns=['Weight'])\n",
    "\n",
    "seeds = np.random.randint(0,100,8)\n",
    "for seed in seeds:\n",
    "       X_train, X_test, y_train, y_test = train_test_split(x, y, train_size=0.75, test_size=0.25, random_state=seed)\n",
    "       lr = LinearRegression()\n",
    "       lr.fit(X_train,y_train,\n",
    "              max_epochs = 100000, \n",
    "              learning_rate = 1e-05,\n",
    "              momentum = 0,\n",
    "              decay = 0,\n",
    "              error = 'mse',\n",
    "              regularization = 'l1',\n",
    "              lambda_ = 0.1,\n",
    "              threshold = 0)\n",
    "\n",
    "\n",
    "       pred = lr.predict(X_test)\n",
    "       print('Semilla: {} R2: {}'.format(seed,score(y_test,pred)))"
   ]
  },
  {
   "cell_type": "markdown",
   "metadata": {},
   "source": [
    "En este caso se puede ver que las diferencias de $R^2$ pueden fluctuar bastante. En algunos casos se logra un valor de hasta 93%, sin embargo pueden haber casos donde el modelo se comporta mucho peor, llegando hasta el 82%. Al cambiar el conjunto de datos de entrada, a pesar de usar los mismos hiperparámetros para el modelo, este se ajusta mejor o peor a los datos, y por lo tanto se consiguen distintos valores al medir su rendimiento. Entonces la selección del dataset de prueba y entrenamiento también es importante de tomar en cuenta cuando se crean y analizan modelos."
   ]
  }
 ],
 "metadata": {
  "interpreter": {
   "hash": "ff4f85d6e04298634172ac5d8264e7e9b556b95639fe52ebb9425c4d4cba0c9c"
  },
  "kernelspec": {
   "display_name": "Python 3.8.11 ('base')",
   "language": "python",
   "name": "python3"
  },
  "language_info": {
   "codemirror_mode": {
    "name": "ipython",
    "version": 3
   },
   "file_extension": ".py",
   "mimetype": "text/x-python",
   "name": "python",
   "nbconvert_exporter": "python",
   "pygments_lexer": "ipython3",
   "version": "3.8.11"
  },
  "orig_nbformat": 4
 },
 "nbformat": 4,
 "nbformat_minor": 2
}
